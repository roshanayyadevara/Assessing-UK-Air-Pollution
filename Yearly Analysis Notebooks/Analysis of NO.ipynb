{
 "cells": [
  {
   "cell_type": "code",
   "execution_count": 33,
   "id": "1b118749",
   "metadata": {},
   "outputs": [],
   "source": [
    "import pandas as pd\n",
    "import numpy as np\n",
    "from matplotlib import pyplot as plt\n",
    "import seaborn as sns\n",
    "import math"
   ]
  },
  {
   "cell_type": "code",
   "execution_count": 34,
   "id": "2e0cb55b",
   "metadata": {},
   "outputs": [],
   "source": [
    "data_b_NO=pd.read_excel(\"/Users/roshanchandraayyadevara/Documents/Dataset_Dessertation/year/NO_Data.xlsx\",sheet_name='Birmingham')\n",
    "data_l_NO=pd.read_excel(\"/Users/roshanchandraayyadevara/Documents/Dataset_Dessertation/year/NO_Data.xlsx\",sheet_name='London')\n",
    "data_lp_NO=pd.read_excel(\"/Users/roshanchandraayyadevara/Documents/Dataset_Dessertation/year/NO_Data.xlsx\",sheet_name='Liverpool')"
   ]
  },
  {
   "cell_type": "code",
   "execution_count": 35,
   "id": "d30d1358",
   "metadata": {},
   "outputs": [],
   "source": [
    "df_b_NO=data_b_NO[[\"Year\",\"Site_Name\",\"City\",\"Annual_Mean\"]]\n",
    "df_l_NO=data_l_NO[[\"Year\",\"Site_Name\",\"City\",\"Annual_Mean\"]]\n",
    "df_lp_NO=data_lp_NO[[\"Year\",\"Site_Name\",\"City\",\"Annual_Mean\"]]"
   ]
  },
  {
   "cell_type": "code",
   "execution_count": 36,
   "id": "a9ec886f",
   "metadata": {},
   "outputs": [],
   "source": [
    "df_b_NO=data_b_NO.groupby('Year').agg(NO_Birmingham=('Annual_Mean', 'mean')).reset_index()\n",
    "df_l_NO=data_l_NO.groupby('Year').agg(NO_London=('Annual_Mean', 'mean')).reset_index()\n",
    "df_lp_NO=data_lp_NO.groupby('Year').agg(NO_Liverpool=('Annual_Mean', 'mean')).reset_index()"
   ]
  },
  {
   "cell_type": "code",
   "execution_count": 37,
   "id": "3f9f1727",
   "metadata": {},
   "outputs": [],
   "source": [
    "B_NO=df_b_NO['NO_Birmingham']\n",
    "l_NO=df_l_NO['NO_London']\n",
    "lp_NO=df_lp_NO['NO_Liverpool']"
   ]
  },
  {
   "cell_type": "code",
   "execution_count": 38,
   "id": "3012b9eb",
   "metadata": {},
   "outputs": [
    {
     "data": {
      "text/html": [
       "<div>\n",
       "<style scoped>\n",
       "    .dataframe tbody tr th:only-of-type {\n",
       "        vertical-align: middle;\n",
       "    }\n",
       "\n",
       "    .dataframe tbody tr th {\n",
       "        vertical-align: top;\n",
       "    }\n",
       "\n",
       "    .dataframe thead th {\n",
       "        text-align: right;\n",
       "    }\n",
       "</style>\n",
       "<table border=\"1\" class=\"dataframe\">\n",
       "  <thead>\n",
       "    <tr style=\"text-align: right;\">\n",
       "      <th></th>\n",
       "      <th>Year</th>\n",
       "      <th>NO_Liverpool</th>\n",
       "    </tr>\n",
       "  </thead>\n",
       "  <tbody>\n",
       "    <tr>\n",
       "      <th>0</th>\n",
       "      <td>2000</td>\n",
       "      <td>37.0</td>\n",
       "    </tr>\n",
       "    <tr>\n",
       "      <th>1</th>\n",
       "      <td>2001</td>\n",
       "      <td>36.0</td>\n",
       "    </tr>\n",
       "    <tr>\n",
       "      <th>2</th>\n",
       "      <td>2002</td>\n",
       "      <td>30.0</td>\n",
       "    </tr>\n",
       "    <tr>\n",
       "      <th>3</th>\n",
       "      <td>2003</td>\n",
       "      <td>9.0</td>\n",
       "    </tr>\n",
       "    <tr>\n",
       "      <th>4</th>\n",
       "      <td>2004</td>\n",
       "      <td>9.0</td>\n",
       "    </tr>\n",
       "    <tr>\n",
       "      <th>5</th>\n",
       "      <td>2005</td>\n",
       "      <td>10.0</td>\n",
       "    </tr>\n",
       "    <tr>\n",
       "      <th>6</th>\n",
       "      <td>2006</td>\n",
       "      <td>9.0</td>\n",
       "    </tr>\n",
       "    <tr>\n",
       "      <th>7</th>\n",
       "      <td>2007</td>\n",
       "      <td>9.0</td>\n",
       "    </tr>\n",
       "    <tr>\n",
       "      <th>8</th>\n",
       "      <td>2008</td>\n",
       "      <td>16.0</td>\n",
       "    </tr>\n",
       "    <tr>\n",
       "      <th>9</th>\n",
       "      <td>2009</td>\n",
       "      <td>17.0</td>\n",
       "    </tr>\n",
       "    <tr>\n",
       "      <th>10</th>\n",
       "      <td>2010</td>\n",
       "      <td>19.5</td>\n",
       "    </tr>\n",
       "    <tr>\n",
       "      <th>11</th>\n",
       "      <td>2011</td>\n",
       "      <td>14.0</td>\n",
       "    </tr>\n",
       "    <tr>\n",
       "      <th>12</th>\n",
       "      <td>2012</td>\n",
       "      <td>13.5</td>\n",
       "    </tr>\n",
       "    <tr>\n",
       "      <th>13</th>\n",
       "      <td>2013</td>\n",
       "      <td>12.0</td>\n",
       "    </tr>\n",
       "    <tr>\n",
       "      <th>14</th>\n",
       "      <td>2014</td>\n",
       "      <td>13.5</td>\n",
       "    </tr>\n",
       "    <tr>\n",
       "      <th>15</th>\n",
       "      <td>2015</td>\n",
       "      <td>12.5</td>\n",
       "    </tr>\n",
       "    <tr>\n",
       "      <th>16</th>\n",
       "      <td>2016</td>\n",
       "      <td>13.5</td>\n",
       "    </tr>\n",
       "    <tr>\n",
       "      <th>17</th>\n",
       "      <td>2017</td>\n",
       "      <td>4.0</td>\n",
       "    </tr>\n",
       "    <tr>\n",
       "      <th>18</th>\n",
       "      <td>2018</td>\n",
       "      <td>4.0</td>\n",
       "    </tr>\n",
       "    <tr>\n",
       "      <th>19</th>\n",
       "      <td>2019</td>\n",
       "      <td>5.0</td>\n",
       "    </tr>\n",
       "    <tr>\n",
       "      <th>20</th>\n",
       "      <td>2020</td>\n",
       "      <td>2.0</td>\n",
       "    </tr>\n",
       "    <tr>\n",
       "      <th>21</th>\n",
       "      <td>2021</td>\n",
       "      <td>4.0</td>\n",
       "    </tr>\n",
       "    <tr>\n",
       "      <th>22</th>\n",
       "      <td>2022</td>\n",
       "      <td>4.0</td>\n",
       "    </tr>\n",
       "  </tbody>\n",
       "</table>\n",
       "</div>"
      ],
      "text/plain": [
       "    Year  NO_Liverpool\n",
       "0   2000          37.0\n",
       "1   2001          36.0\n",
       "2   2002          30.0\n",
       "3   2003           9.0\n",
       "4   2004           9.0\n",
       "5   2005          10.0\n",
       "6   2006           9.0\n",
       "7   2007           9.0\n",
       "8   2008          16.0\n",
       "9   2009          17.0\n",
       "10  2010          19.5\n",
       "11  2011          14.0\n",
       "12  2012          13.5\n",
       "13  2013          12.0\n",
       "14  2014          13.5\n",
       "15  2015          12.5\n",
       "16  2016          13.5\n",
       "17  2017           4.0\n",
       "18  2018           4.0\n",
       "19  2019           5.0\n",
       "20  2020           2.0\n",
       "21  2021           4.0\n",
       "22  2022           4.0"
      ]
     },
     "execution_count": 38,
     "metadata": {},
     "output_type": "execute_result"
    }
   ],
   "source": [
    "df_lp_NO"
   ]
  },
  {
   "cell_type": "code",
   "execution_count": 39,
   "id": "465003ea",
   "metadata": {},
   "outputs": [
    {
     "name": "stdout",
     "output_type": "stream",
     "text": [
      "Maximum of Birmingham 35.5\n",
      "Maximum of London 51.64705882352941\n",
      "Maximum of Liverpool 37.0\n"
     ]
    }
   ],
   "source": [
    "print(\"Maximum of Birmingham\",max(B_NO))\n",
    "print(\"Maximum of London\",max(l_NO))\n",
    "print(\"Maximum of Liverpool\",max(lp_NO))"
   ]
  },
  {
   "cell_type": "code",
   "execution_count": 40,
   "id": "44d35a17",
   "metadata": {},
   "outputs": [
    {
     "name": "stdout",
     "output_type": "stream",
     "text": [
      "Minimum of Birmingham 11.0\n",
      "Minimum of London 9.2\n",
      "Minimum of Liverpool 2.0\n"
     ]
    }
   ],
   "source": [
    "print(\"Minimum of Birmingham\",min(B_NO))\n",
    "print(\"Minimum of London\",min(l_NO))\n",
    "print(\"Minimum of Liverpool\",min(lp_NO))"
   ]
  },
  {
   "cell_type": "code",
   "execution_count": 41,
   "id": "ad896b6a",
   "metadata": {},
   "outputs": [
    {
     "name": "stdout",
     "output_type": "stream",
     "text": [
      "SD of Birmingham 5.696790330551748\n",
      "SD of London 10.430753401150561\n",
      "SD of Liverpool 9.642164895578057\n"
     ]
    }
   ],
   "source": [
    "print(\"SD of Birmingham\",B_NO.std())\n",
    "print(\"SD of London\",l_NO.std())\n",
    "print(\"SD of Liverpool\",lp_NO.std())"
   ]
  },
  {
   "cell_type": "code",
   "execution_count": 42,
   "id": "840889e4",
   "metadata": {},
   "outputs": [
    {
     "name": "stdout",
     "output_type": "stream",
     "text": [
      "Variance of Birmingham 32.453420070267896\n",
      "Variance of London 108.80061651561401\n",
      "Variance of Liverpool 92.9713438735178\n"
     ]
    }
   ],
   "source": [
    "print(\"Variance of Birmingham\",B_NO.var())\n",
    "print(\"Variance of London\",l_NO.var())\n",
    "print(\"Variance of Liverpool\",lp_NO.var())"
   ]
  },
  {
   "cell_type": "code",
   "execution_count": 43,
   "id": "5dbd9529",
   "metadata": {},
   "outputs": [
    {
     "name": "stdout",
     "output_type": "stream",
     "text": [
      "Mean of Birmingham 19.77173913043478\n",
      "Mean of London 29.179466899442662\n",
      "Mean of Liverpool 13.195652173913043\n"
     ]
    }
   ],
   "source": [
    "print(\"Mean of Birmingham\",B_NO.mean())\n",
    "print(\"Mean of London\",l_NO.mean())\n",
    "print(\"Mean of Liverpool\",lp_NO.mean())"
   ]
  },
  {
   "cell_type": "code",
   "execution_count": 46,
   "id": "e548c77a",
   "metadata": {},
   "outputs": [
    {
     "name": "stdout",
     "output_type": "stream",
     "text": [
      "F-statistic: 19.01234968364495\n",
      "p-value: 3.016104498040719e-07\n",
      "The means are significantly different among the cities.\n",
      "    Multiple Comparison of Means - Tukey HSD, FWER=0.05     \n",
      "============================================================\n",
      "  group1     group2  meandiff p-adj   lower    upper  reject\n",
      "------------------------------------------------------------\n",
      "Birmingham Liverpool  -6.5761 0.0369 -12.8235 -0.3286   True\n",
      "Birmingham    London   9.4077 0.0017   3.1603 15.6552   True\n",
      " Liverpool    London  15.9838    0.0   9.7364 22.2313   True\n",
      "------------------------------------------------------------\n",
      "Increasing order of cities based on NO concentrations:\n",
      "['London', 'Birmingham', 'Liverpool']\n"
     ]
    }
   ],
   "source": [
    "import pandas as pd\n",
    "import scipy.stats as stats\n",
    "import statsmodels.stats.multicomp as mc\n",
    "\n",
    "# Assuming B_NO2, l_NO2, and lp_NO2 are pandas Series containing the data for Birmingham, London, and Liverpool respectively.\n",
    "\n",
    "# Combine the data into a single DataFrame\n",
    "data = pd.DataFrame({\n",
    "    'Birmingham': B_NO,\n",
    "    'London': l_NO,\n",
    "    'Liverpool': lp_NO\n",
    "})\n",
    "\n",
    "# Perform one-way ANOVA\n",
    "f_statistic, p_value = stats.f_oneway(data['Birmingham'], data['London'], data['Liverpool'])\n",
    "\n",
    "# Print the results\n",
    "print(\"F-statistic:\", f_statistic)\n",
    "print(\"p-value:\", p_value)\n",
    "\n",
    "# Check for statistical significance (alpha = 0.05)\n",
    "if p_value < 0.05:\n",
    "    print(\"The means are significantly different among the cities.\")\n",
    "    # Perform Tukey's HSD test for post hoc analysis\n",
    "    mc_result = mc.MultiComparison(data.melt(var_name='City', value_name='NO Concentration')['NO Concentration'],\n",
    "                                   data.melt(var_name='City', value_name='NO Concentration')['City'])\n",
    "    tukey_result = mc_result.tukeyhsd()\n",
    "    print(tukey_result)\n",
    "\n",
    "    # Get the increasing order of cities based on their NO2 concentrations\n",
    "    mean_values = data.mean().sort_values(ascending=False)  # Sort in ascending order\n",
    "    increasing_order = mean_values.index.tolist()\n",
    "    print(\"Increasing order of cities based on NO concentrations:\")\n",
    "    print(increasing_order)\n",
    "\n",
    "else:\n",
    "    print(\"There is no significant difference among the cities.\")\n"
   ]
  },
  {
   "cell_type": "code",
   "execution_count": null,
   "id": "285a5abd",
   "metadata": {},
   "outputs": [],
   "source": []
  }
 ],
 "metadata": {
  "kernelspec": {
   "display_name": "Python 3 (ipykernel)",
   "language": "python",
   "name": "python3"
  },
  "language_info": {
   "codemirror_mode": {
    "name": "ipython",
    "version": 3
   },
   "file_extension": ".py",
   "mimetype": "text/x-python",
   "name": "python",
   "nbconvert_exporter": "python",
   "pygments_lexer": "ipython3",
   "version": "3.9.12"
  }
 },
 "nbformat": 4,
 "nbformat_minor": 5
}
