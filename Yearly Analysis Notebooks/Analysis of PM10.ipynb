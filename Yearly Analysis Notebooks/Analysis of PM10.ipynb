{
 "cells": [
  {
   "cell_type": "code",
   "execution_count": 28,
   "id": "1b118749",
   "metadata": {},
   "outputs": [],
   "source": [
    "import pandas as pd\n",
    "import numpy as np\n",
    "from matplotlib import pyplot as plt\n",
    "import seaborn as sns\n",
    "import math"
   ]
  },
  {
   "cell_type": "code",
   "execution_count": 29,
   "id": "2e0cb55b",
   "metadata": {},
   "outputs": [],
   "source": [
    "data_b_PM10=pd.read_excel(\"/Users/roshanchandraayyadevara/Documents/Dataset_Dessertation/year/PM10_Data.xlsx\",sheet_name='Birmingham_1')\n",
    "data_l_PM10=pd.read_excel(\"/Users/roshanchandraayyadevara/Documents/Dataset_Dessertation/year/PM10_Data.xlsx\",sheet_name='London')\n",
    "data_lp_PM10=pd.read_excel(\"/Users/roshanchandraayyadevara/Documents/Dataset_Dessertation/year/PM10_Data.xlsx\",sheet_name='Liverpool')"
   ]
  },
  {
   "cell_type": "code",
   "execution_count": 30,
   "id": "d30d1358",
   "metadata": {},
   "outputs": [],
   "source": [
    "df_b_PM10=data_b_PM10[[\"Year\",\"Site_Name\",\"City\",\"Annual_Mean\"]]\n",
    "df_l_PM10=data_l_PM10[[\"Year\",\"Site_Name\",\"City\",\"Annual_Mean\"]]\n",
    "df_lp_PM10=data_lp_PM10[[\"Year\",\"Site_Name\",\"City\",\"Annual_Mean\"]]"
   ]
  },
  {
   "cell_type": "code",
   "execution_count": 31,
   "id": "a9ec886f",
   "metadata": {},
   "outputs": [],
   "source": [
    "df_b_PM10=data_b_PM10.groupby('Year').agg(PM10_Birmingham=('Annual_Mean', 'mean')).reset_index()\n",
    "df_l_PM10=data_l_PM10.groupby('Year').agg(PM10_London=('Annual_Mean', 'mean')).reset_index()\n",
    "df_lp_PM10=data_lp_PM10.groupby('Year').agg(PM10_Liverpool=('Annual_Mean', 'mean')).reset_index()"
   ]
  },
  {
   "cell_type": "code",
   "execution_count": 32,
   "id": "3f9f1727",
   "metadata": {},
   "outputs": [],
   "source": [
    "B_PM10=df_b_PM10['PM10_Birmingham']\n",
    "l_PM10=df_l_PM10['PM10_London']\n",
    "lp_PM10=df_lp_PM10['PM10_Liverpool']"
   ]
  },
  {
   "cell_type": "code",
   "execution_count": 42,
   "id": "67abf6d1",
   "metadata": {},
   "outputs": [
    {
     "data": {
      "text/html": [
       "<div>\n",
       "<style scoped>\n",
       "    .dataframe tbody tr th:only-of-type {\n",
       "        vertical-align: middle;\n",
       "    }\n",
       "\n",
       "    .dataframe tbody tr th {\n",
       "        vertical-align: top;\n",
       "    }\n",
       "\n",
       "    .dataframe thead th {\n",
       "        text-align: right;\n",
       "    }\n",
       "</style>\n",
       "<table border=\"1\" class=\"dataframe\">\n",
       "  <thead>\n",
       "    <tr style=\"text-align: right;\">\n",
       "      <th></th>\n",
       "      <th>Year</th>\n",
       "      <th>PM10_Birmingham</th>\n",
       "    </tr>\n",
       "  </thead>\n",
       "  <tbody>\n",
       "    <tr>\n",
       "      <th>0</th>\n",
       "      <td>2000</td>\n",
       "      <td>21.500000</td>\n",
       "    </tr>\n",
       "    <tr>\n",
       "      <th>1</th>\n",
       "      <td>2001</td>\n",
       "      <td>22.000000</td>\n",
       "    </tr>\n",
       "    <tr>\n",
       "      <th>2</th>\n",
       "      <td>2002</td>\n",
       "      <td>21.500000</td>\n",
       "    </tr>\n",
       "    <tr>\n",
       "      <th>3</th>\n",
       "      <td>2003</td>\n",
       "      <td>25.000000</td>\n",
       "    </tr>\n",
       "    <tr>\n",
       "      <th>4</th>\n",
       "      <td>2004</td>\n",
       "      <td>22.000000</td>\n",
       "    </tr>\n",
       "    <tr>\n",
       "      <th>5</th>\n",
       "      <td>2005</td>\n",
       "      <td>23.500000</td>\n",
       "    </tr>\n",
       "    <tr>\n",
       "      <th>6</th>\n",
       "      <td>2006</td>\n",
       "      <td>25.500000</td>\n",
       "    </tr>\n",
       "    <tr>\n",
       "      <th>7</th>\n",
       "      <td>2007</td>\n",
       "      <td>22.000000</td>\n",
       "    </tr>\n",
       "    <tr>\n",
       "      <th>8</th>\n",
       "      <td>2008</td>\n",
       "      <td>17.500000</td>\n",
       "    </tr>\n",
       "    <tr>\n",
       "      <th>9</th>\n",
       "      <td>2009</td>\n",
       "      <td>19.333333</td>\n",
       "    </tr>\n",
       "    <tr>\n",
       "      <th>10</th>\n",
       "      <td>2010</td>\n",
       "      <td>20.000000</td>\n",
       "    </tr>\n",
       "    <tr>\n",
       "      <th>11</th>\n",
       "      <td>2011</td>\n",
       "      <td>23.333333</td>\n",
       "    </tr>\n",
       "    <tr>\n",
       "      <th>12</th>\n",
       "      <td>2012</td>\n",
       "      <td>20.333333</td>\n",
       "    </tr>\n",
       "    <tr>\n",
       "      <th>13</th>\n",
       "      <td>2013</td>\n",
       "      <td>18.333333</td>\n",
       "    </tr>\n",
       "    <tr>\n",
       "      <th>14</th>\n",
       "      <td>2014</td>\n",
       "      <td>19.333333</td>\n",
       "    </tr>\n",
       "    <tr>\n",
       "      <th>15</th>\n",
       "      <td>2015</td>\n",
       "      <td>16.000000</td>\n",
       "    </tr>\n",
       "    <tr>\n",
       "      <th>16</th>\n",
       "      <td>2016</td>\n",
       "      <td>16.666667</td>\n",
       "    </tr>\n",
       "    <tr>\n",
       "      <th>17</th>\n",
       "      <td>2017</td>\n",
       "      <td>16.000000</td>\n",
       "    </tr>\n",
       "    <tr>\n",
       "      <th>18</th>\n",
       "      <td>2018</td>\n",
       "      <td>16.500000</td>\n",
       "    </tr>\n",
       "    <tr>\n",
       "      <th>19</th>\n",
       "      <td>2019</td>\n",
       "      <td>13.666667</td>\n",
       "    </tr>\n",
       "    <tr>\n",
       "      <th>20</th>\n",
       "      <td>2020</td>\n",
       "      <td>13.000000</td>\n",
       "    </tr>\n",
       "    <tr>\n",
       "      <th>21</th>\n",
       "      <td>2021</td>\n",
       "      <td>13.000000</td>\n",
       "    </tr>\n",
       "    <tr>\n",
       "      <th>22</th>\n",
       "      <td>2022</td>\n",
       "      <td>14.500000</td>\n",
       "    </tr>\n",
       "  </tbody>\n",
       "</table>\n",
       "</div>"
      ],
      "text/plain": [
       "    Year  PM10_Birmingham\n",
       "0   2000        21.500000\n",
       "1   2001        22.000000\n",
       "2   2002        21.500000\n",
       "3   2003        25.000000\n",
       "4   2004        22.000000\n",
       "5   2005        23.500000\n",
       "6   2006        25.500000\n",
       "7   2007        22.000000\n",
       "8   2008        17.500000\n",
       "9   2009        19.333333\n",
       "10  2010        20.000000\n",
       "11  2011        23.333333\n",
       "12  2012        20.333333\n",
       "13  2013        18.333333\n",
       "14  2014        19.333333\n",
       "15  2015        16.000000\n",
       "16  2016        16.666667\n",
       "17  2017        16.000000\n",
       "18  2018        16.500000\n",
       "19  2019        13.666667\n",
       "20  2020        13.000000\n",
       "21  2021        13.000000\n",
       "22  2022        14.500000"
      ]
     },
     "execution_count": 42,
     "metadata": {},
     "output_type": "execute_result"
    }
   ],
   "source": [
    "df_b_PM10"
   ]
  },
  {
   "cell_type": "code",
   "execution_count": 34,
   "id": "465003ea",
   "metadata": {},
   "outputs": [
    {
     "name": "stdout",
     "output_type": "stream",
     "text": [
      "Maximum of Birmingham 25.5\n",
      "Maximum of London 31.375\n",
      "Maximum of Liverpool 26.0\n"
     ]
    }
   ],
   "source": [
    "print(\"Maximum of Birmingham\",max(B_PM10))\n",
    "print(\"Maximum of London\",max(l_PM10))\n",
    "print(\"Maximum of Liverpool\",max(lp_PM10))"
   ]
  },
  {
   "cell_type": "code",
   "execution_count": 35,
   "id": "44d35a17",
   "metadata": {},
   "outputs": [
    {
     "name": "stdout",
     "output_type": "stream",
     "text": [
      "Minimum of Birmingham 13.0\n",
      "Minimum of London 14.222222222222221\n",
      "Minimum of Liverpool 11.0\n"
     ]
    }
   ],
   "source": [
    "print(\"Minimum of Birmingham\",min(B_PM10))\n",
    "print(\"Minimum of London\",min(l_PM10))\n",
    "print(\"Minimum of Liverpool\",min(lp_PM10))"
   ]
  },
  {
   "cell_type": "code",
   "execution_count": 36,
   "id": "ad896b6a",
   "metadata": {},
   "outputs": [
    {
     "name": "stdout",
     "output_type": "stream",
     "text": [
      "SD of Birmingham 3.7678574959509263\n",
      "SD of London 5.108866207436514\n",
      "SD of Liverpool 4.5099801494703495\n"
     ]
    }
   ],
   "source": [
    "print(\"SD of Birmingham\",B_PM10.std())\n",
    "print(\"SD of London\",l_PM10.std())\n",
    "print(\"SD of Liverpool\",lp_PM10.std())"
   ]
  },
  {
   "cell_type": "code",
   "execution_count": 37,
   "id": "840889e4",
   "metadata": {},
   "outputs": [
    {
     "name": "stdout",
     "output_type": "stream",
     "text": [
      "Variance of Birmingham 14.196750109793586\n",
      "Variance of London 26.100513925486755\n",
      "Variance of Liverpool 20.339920948616598\n"
     ]
    }
   ],
   "source": [
    "print(\"Variance of Birmingham\",B_PM10.var())\n",
    "print(\"Variance of London\",l_PM10.var())\n",
    "print(\"Variance of Liverpool\",lp_PM10.var())"
   ]
  },
  {
   "cell_type": "code",
   "execution_count": 38,
   "id": "5dbd9529",
   "metadata": {},
   "outputs": [
    {
     "name": "stdout",
     "output_type": "stream",
     "text": [
      "Mean of Birmingham 19.152173913043477\n",
      "Mean of London 22.74673913043478\n",
      "Mean of Liverpool 17.391304347826086\n"
     ]
    }
   ],
   "source": [
    "print(\"Mean of Birmingham\",B_PM10.mean())\n",
    "print(\"Mean of London\",l_PM10.mean())\n",
    "print(\"Mean of Liverpool\",lp_PM10.mean())"
   ]
  },
  {
   "cell_type": "code",
   "execution_count": 39,
   "id": "8b8b7db9",
   "metadata": {},
   "outputs": [
    {
     "name": "stdout",
     "output_type": "stream",
     "text": [
      "F-statistic: 8.477896659945513\n",
      "p-value: 0.0005284550870430431\n",
      "The means are significantly different among the cities.\n",
      "   Multiple Comparison of Means - Tukey HSD, FWER=0.05    \n",
      "==========================================================\n",
      "  group1     group2  meandiff p-adj   lower  upper  reject\n",
      "----------------------------------------------------------\n",
      "Birmingham Liverpool  -1.7609 0.3848 -4.9396 1.4179  False\n",
      "Birmingham    London   3.5946 0.0229  0.4158 6.7733   True\n",
      " Liverpool    London   5.3554 0.0004  2.1767 8.5342   True\n",
      "----------------------------------------------------------\n"
     ]
    }
   ],
   "source": [
    "import pandas as pd\n",
    "import scipy.stats as stats\n",
    "import statsmodels.stats.multicomp as mc\n",
    "\n",
    "# Assuming B_PM102, l_PM102, and lp_PM102 are pandas Series containing the data for Birmingham, London, and Liverpool respectively.\n",
    "\n",
    "# Combine the data into a single DataFrame\n",
    "data = pd.DataFrame({\n",
    "    'Birmingham': B_PM10,\n",
    "    'London': l_PM10,\n",
    "    'Liverpool': lp_PM10\n",
    "})\n",
    "\n",
    "# Perform one-way APM10VA\n",
    "f_statistic, p_value = stats.f_oneway(data['Birmingham'], data['London'], data['Liverpool'])\n",
    "\n",
    "# Print the results\n",
    "print(\"F-statistic:\", f_statistic)\n",
    "print(\"p-value:\", p_value)\n",
    "\n",
    "# Check for statistical significance (alpha = 0.05)\n",
    "if p_value < 0.05:\n",
    "    print(\"The means are significantly different among the cities.\")\n",
    "    # Perform Tukey's HSD test for post hoc analysis\n",
    "    mc_result = mc.MultiComparison(data.melt(var_name='City', value_name='PM10 Concentration')['PM10 Concentration'],\n",
    "                                   data.melt(var_name='City', value_name='PM10 Concentration')['City'])\n",
    "    tukey_result = mc_result.tukeyhsd()\n",
    "    print(tukey_result)\n",
    "else:\n",
    "    print(\"There is PM10 significant difference among the cities.\")\n"
   ]
  },
  {
   "cell_type": "code",
   "execution_count": 40,
   "id": "e1a0d53b",
   "metadata": {},
   "outputs": [
    {
     "data": {
      "image/png": "[encoded data removed]",
      "text/plain": [
       "<Figure size 720x432 with 1 Axes>"
      ]
     },
     "metadata": {
      "needs_background": "light"
     },
     "output_type": "display_data"
    }
   ],
   "source": [
    "# Combine the data frames\n",
    "merged_df = df_b_PM10.merge(df_l_PM10, on='Year').merge(df_lp_PM10, on='Year')\n",
    "\n",
    "# Create a new data frame for Seaborn (melt the data to make it long-form)\n",
    "melted_df = pd.melt(merged_df, id_vars='Year', var_name='City', value_name='PM10_Concentration')\n",
    "\n",
    "# Plot box plots using Seaborn\n",
    "plt.figure(figsize=(10, 6))\n",
    "sns.boxplot(x='City', y='PM10_Concentration', data=melted_df)\n",
    "plt.title('Annual Mean PM10 pollutant of London, Birmingham and Liverpool')\n",
    "plt.ylabel('Annual Mean of PM10')\n",
    "plt.xlabel('City')\n",
    "plt.grid(True)\n",
    "plt.show()\n"
   ]
  },
  {
   "cell_type": "code",
   "execution_count": 41,
   "id": "e548c77a",
   "metadata": {},
   "outputs": [
    {
     "name": "stdout",
     "output_type": "stream",
     "text": [
      "F-statistic: 8.477896659945513\n",
      "p-value: 0.0005284550870430431\n",
      "The means are significantly different among the cities.\n",
      "   Multiple Comparison of Means - Tukey HSD, FWER=0.05    \n",
      "==========================================================\n",
      "  group1     group2  meandiff p-adj   lower  upper  reject\n",
      "----------------------------------------------------------\n",
      "Birmingham Liverpool  -1.7609 0.3848 -4.9396 1.4179  False\n",
      "Birmingham    London   3.5946 0.0229  0.4158 6.7733   True\n",
      " Liverpool    London   5.3554 0.0004  2.1767 8.5342   True\n",
      "----------------------------------------------------------\n",
      "Increasing order of cities based on PM 10 concentrations:\n",
      "['London', 'Birmingham', 'Liverpool']\n"
     ]
    }
   ],
   "source": [
    "import pandas as pd\n",
    "import scipy.stats as stats\n",
    "import statsmodels.stats.multicomp as mc\n",
    "\n",
    "# Assuming B_NO2, l_NO2, and lp_NO2 are pandas Series containing the data for Birmingham, London, and Liverpool respectively.\n",
    "\n",
    "# Combine the data into a single DataFrame\n",
    "data = pd.DataFrame({\n",
    "    'Birmingham': B_PM10,\n",
    "    'London': l_PM10,\n",
    "    'Liverpool': lp_PM10\n",
    "})\n",
    "\n",
    "# Perform one-way ANOVA\n",
    "f_statistic, p_value = stats.f_oneway(data['Birmingham'], data['London'], data['Liverpool'])\n",
    "\n",
    "# Print the results\n",
    "print(\"F-statistic:\", f_statistic)\n",
    "print(\"p-value:\", p_value)\n",
    "\n",
    "# Check for statistical significance (alpha = 0.05)\n",
    "if p_value < 0.05:\n",
    "    print(\"The means are significantly different among the cities.\")\n",
    "    # Perform Tukey's HSD test for post hoc analysis\n",
    "    mc_result = mc.MultiComparison(data.melt(var_name='City', value_name='NO Concentration')['NO Concentration'],\n",
    "                                   data.melt(var_name='City', value_name='NO Concentration')['City'])\n",
    "    tukey_result = mc_result.tukeyhsd()\n",
    "    print(tukey_result)\n",
    "\n",
    "    # Get the increasing order of cities based on their NO2 concentrations\n",
    "    mean_values = data.mean().sort_values(ascending=False)  # Sort in ascending order\n",
    "    increasing_order = mean_values.index.tolist()\n",
    "    print(\"Increasing order of cities based on PM 10 concentrations:\")\n",
    "    print(increasing_order)\n",
    "\n",
    "else:\n",
    "    print(\"There is no significant difference among the cities.\")\n"
   ]
  }
 ],
 "metadata": {
  "kernelspec": {
   "display_name": "Python 3 (ipykernel)",
   "language": "python",
   "name": "python3"
  },
  "language_info": {
   "codemirror_mode": {
    "name": "ipython",
    "version": 3
   },
   "file_extension": ".py",
   "mimetype": "text/x-python",
   "name": "python",
   "nbconvert_exporter": "python",
   "pygments_lexer": "ipython3",
   "version": "3.9.12"
  }
 },
 "nbformat": 4,
 "nbformat_minor": 5
}
