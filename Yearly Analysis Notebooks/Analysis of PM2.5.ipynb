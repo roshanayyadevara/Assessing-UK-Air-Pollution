{
 "cells": [
  {
   "cell_type": "code",
   "execution_count": 1,
   "id": "1b118749",
   "metadata": {},
   "outputs": [],
   "source": [
    "import pandas as pd\n",
    "import numpy as np\n",
    "from matplotlib import pyplot as plt\n",
    "import seaborn as sns\n",
    "import math"
   ]
  },
  {
   "cell_type": "code",
   "execution_count": 2,
   "id": "2e0cb55b",
   "metadata": {},
   "outputs": [],
   "source": [
    "data_b_PM25=pd.read_excel(\"/Users/roshanchandraayyadevara/Documents/Dataset_Dessertation/year/PM2_5_Data.xlsx\",sheet_name='Birmingham')\n",
    "data_l_PM25=pd.read_excel(\"/Users/roshanchandraayyadevara/Documents/Dataset_Dessertation/year/PM2_5_Data.xlsx\",sheet_name='London')\n",
    "data_lp_PM25=pd.read_excel(\"/Users/roshanchandraayyadevara/Documents/Dataset_Dessertation/year/PM2_5_Data.xlsx\",sheet_name='Liverpool')"
   ]
  },
  {
   "cell_type": "code",
   "execution_count": 3,
   "id": "d30d1358",
   "metadata": {},
   "outputs": [],
   "source": [
    "df_b_PM25=data_b_PM25[[\"Year\",\"Site_Name\",\"City\",\"Annual_Mean\"]]\n",
    "df_l_PM25=data_l_PM25[[\"Year\",\"Site_Name\",\"City\",\"Annual_Mean\"]]\n",
    "df_lp_PM25=data_lp_PM25[[\"Year\",\"Site_Name\",\"City\",\"Annual_Mean\"]]"
   ]
  },
  {
   "cell_type": "code",
   "execution_count": 4,
   "id": "a9ec886f",
   "metadata": {},
   "outputs": [],
   "source": [
    "df_b_PM25=data_b_PM25.groupby('Year').agg(PM25_Birmingham=('Annual_Mean', 'mean')).reset_index()\n",
    "df_l_PM25=data_l_PM25.groupby('Year').agg(PM25_London=('Annual_Mean', 'mean')).reset_index()\n",
    "df_lp_PM25=data_lp_PM25.groupby('Year').agg(PM25_Liverpool=('Annual_Mean', 'mean')).reset_index()"
   ]
  },
  {
   "cell_type": "code",
   "execution_count": 5,
   "id": "3f9f1727",
   "metadata": {},
   "outputs": [],
   "source": [
    "B_PM25=df_b_PM25['PM25_Birmingham']\n",
    "l_PM25=df_l_PM25['PM25_London']\n",
    "lp_PM25=df_lp_PM25['PM25_Liverpool']"
   ]
  },
  {
   "cell_type": "code",
   "execution_count": 20,
   "id": "67abf6d1",
   "metadata": {},
   "outputs": [
    {
     "data": {
      "text/html": [
       "<div>\n",
       "<style scoped>\n",
       "    .dataframe tbody tr th:only-of-type {\n",
       "        vertical-align: middle;\n",
       "    }\n",
       "\n",
       "    .dataframe tbody tr th {\n",
       "        vertical-align: top;\n",
       "    }\n",
       "\n",
       "    .dataframe thead th {\n",
       "        text-align: right;\n",
       "    }\n",
       "</style>\n",
       "<table border=\"1\" class=\"dataframe\">\n",
       "  <thead>\n",
       "    <tr style=\"text-align: right;\">\n",
       "      <th></th>\n",
       "      <th>Year</th>\n",
       "      <th>PM25_Birmingham</th>\n",
       "    </tr>\n",
       "  </thead>\n",
       "  <tbody>\n",
       "    <tr>\n",
       "      <th>0</th>\n",
       "      <td>2000</td>\n",
       "      <td>15.000000</td>\n",
       "    </tr>\n",
       "    <tr>\n",
       "      <th>1</th>\n",
       "      <td>2001</td>\n",
       "      <td>14.000000</td>\n",
       "    </tr>\n",
       "    <tr>\n",
       "      <th>2</th>\n",
       "      <td>2002</td>\n",
       "      <td>15.000000</td>\n",
       "    </tr>\n",
       "    <tr>\n",
       "      <th>3</th>\n",
       "      <td>2003</td>\n",
       "      <td>14.000000</td>\n",
       "    </tr>\n",
       "    <tr>\n",
       "      <th>4</th>\n",
       "      <td>2004</td>\n",
       "      <td>15.000000</td>\n",
       "    </tr>\n",
       "    <tr>\n",
       "      <th>5</th>\n",
       "      <td>2005</td>\n",
       "      <td>16.000000</td>\n",
       "    </tr>\n",
       "    <tr>\n",
       "      <th>6</th>\n",
       "      <td>2006</td>\n",
       "      <td>15.000000</td>\n",
       "    </tr>\n",
       "    <tr>\n",
       "      <th>7</th>\n",
       "      <td>2007</td>\n",
       "      <td>14.000000</td>\n",
       "    </tr>\n",
       "    <tr>\n",
       "      <th>8</th>\n",
       "      <td>2008</td>\n",
       "      <td>15.000000</td>\n",
       "    </tr>\n",
       "    <tr>\n",
       "      <th>9</th>\n",
       "      <td>2009</td>\n",
       "      <td>14.000000</td>\n",
       "    </tr>\n",
       "    <tr>\n",
       "      <th>10</th>\n",
       "      <td>2010</td>\n",
       "      <td>15.000000</td>\n",
       "    </tr>\n",
       "    <tr>\n",
       "      <th>11</th>\n",
       "      <td>2011</td>\n",
       "      <td>16.666667</td>\n",
       "    </tr>\n",
       "    <tr>\n",
       "      <th>12</th>\n",
       "      <td>2012</td>\n",
       "      <td>12.666667</td>\n",
       "    </tr>\n",
       "    <tr>\n",
       "      <th>13</th>\n",
       "      <td>2013</td>\n",
       "      <td>14.333333</td>\n",
       "    </tr>\n",
       "    <tr>\n",
       "      <th>14</th>\n",
       "      <td>2014</td>\n",
       "      <td>13.000000</td>\n",
       "    </tr>\n",
       "    <tr>\n",
       "      <th>15</th>\n",
       "      <td>2015</td>\n",
       "      <td>10.333333</td>\n",
       "    </tr>\n",
       "    <tr>\n",
       "      <th>16</th>\n",
       "      <td>2016</td>\n",
       "      <td>12.500000</td>\n",
       "    </tr>\n",
       "    <tr>\n",
       "      <th>17</th>\n",
       "      <td>2017</td>\n",
       "      <td>11.333333</td>\n",
       "    </tr>\n",
       "    <tr>\n",
       "      <th>18</th>\n",
       "      <td>2018</td>\n",
       "      <td>10.333333</td>\n",
       "    </tr>\n",
       "    <tr>\n",
       "      <th>19</th>\n",
       "      <td>2019</td>\n",
       "      <td>9.666667</td>\n",
       "    </tr>\n",
       "    <tr>\n",
       "      <th>20</th>\n",
       "      <td>2020</td>\n",
       "      <td>7.666667</td>\n",
       "    </tr>\n",
       "    <tr>\n",
       "      <th>21</th>\n",
       "      <td>2021</td>\n",
       "      <td>8.000000</td>\n",
       "    </tr>\n",
       "    <tr>\n",
       "      <th>22</th>\n",
       "      <td>2022</td>\n",
       "      <td>8.500000</td>\n",
       "    </tr>\n",
       "  </tbody>\n",
       "</table>\n",
       "</div>"
      ],
      "text/plain": [
       "    Year  PM25_Birmingham\n",
       "0   2000        15.000000\n",
       "1   2001        14.000000\n",
       "2   2002        15.000000\n",
       "3   2003        14.000000\n",
       "4   2004        15.000000\n",
       "5   2005        16.000000\n",
       "6   2006        15.000000\n",
       "7   2007        14.000000\n",
       "8   2008        15.000000\n",
       "9   2009        14.000000\n",
       "10  2010        15.000000\n",
       "11  2011        16.666667\n",
       "12  2012        12.666667\n",
       "13  2013        14.333333\n",
       "14  2014        13.000000\n",
       "15  2015        10.333333\n",
       "16  2016        12.500000\n",
       "17  2017        11.333333\n",
       "18  2018        10.333333\n",
       "19  2019         9.666667\n",
       "20  2020         7.666667\n",
       "21  2021         8.000000\n",
       "22  2022         8.500000"
      ]
     },
     "execution_count": 20,
     "metadata": {},
     "output_type": "execute_result"
    }
   ],
   "source": [
    "df_b_PM25"
   ]
  },
  {
   "cell_type": "code",
   "execution_count": 7,
   "id": "465003ea",
   "metadata": {},
   "outputs": [
    {
     "name": "stdout",
     "output_type": "stream",
     "text": [
      "Maximum of Birmingham 16.666666666666668\n",
      "Maximum of London 20.0\n",
      "Maximum of Liverpool 12.0\n"
     ]
    }
   ],
   "source": [
    "print(\"Maximum of Birmingham\",max(B_PM25))\n",
    "print(\"Maximum of London\",max(l_PM25))\n",
    "print(\"Maximum of Liverpool\",max(lp_PM25))"
   ]
  },
  {
   "cell_type": "code",
   "execution_count": 8,
   "id": "44d35a17",
   "metadata": {},
   "outputs": [
    {
     "name": "stdout",
     "output_type": "stream",
     "text": [
      "Minimum of Birmingham 7.666666666666667\n",
      "Minimum of London 8.4\n",
      "Minimum of Liverpool 6.0\n"
     ]
    }
   ],
   "source": [
    "print(\"Minimum of Birmingham\",min(B_PM25))\n",
    "print(\"Minimum of London\",min(l_PM25))\n",
    "print(\"Minimum of Liverpool\",min(lp_PM25))"
   ]
  },
  {
   "cell_type": "code",
   "execution_count": 9,
   "id": "ad896b6a",
   "metadata": {},
   "outputs": [
    {
     "name": "stdout",
     "output_type": "stream",
     "text": [
      "SD of Birmingham 2.6475973314189694\n",
      "SD of London 3.3100981010889647\n",
      "SD of Liverpool 1.7804382815217998\n"
     ]
    }
   ],
   "source": [
    "print(\"SD of Birmingham\",B_PM25.std())\n",
    "print(\"SD of London\",l_PM25.std())\n",
    "print(\"SD of Liverpool\",lp_PM25.std())"
   ]
  },
  {
   "cell_type": "code",
   "execution_count": 10,
   "id": "840889e4",
   "metadata": {},
   "outputs": [
    {
     "name": "stdout",
     "output_type": "stream",
     "text": [
      "Variance of Birmingham 7.009771629336847\n",
      "Variance of London 10.95674943883277\n",
      "Variance of Liverpool 3.1699604743083\n"
     ]
    }
   ],
   "source": [
    "print(\"Variance of Birmingham\",B_PM25.var())\n",
    "print(\"Variance of London\",l_PM25.var())\n",
    "print(\"Variance of Liverpool\",lp_PM25.var())"
   ]
  },
  {
   "cell_type": "code",
   "execution_count": 11,
   "id": "5dbd9529",
   "metadata": {},
   "outputs": [
    {
     "name": "stdout",
     "output_type": "stream",
     "text": [
      "Mean of Birmingham 12.913043478260873\n",
      "Mean of London 14.438888888888886\n",
      "Mean of Liverpool 10.478260869565217\n"
     ]
    }
   ],
   "source": [
    "print(\"Mean of Birmingham\",B_PM25.mean())\n",
    "print(\"Mean of London\",l_PM25.mean())\n",
    "print(\"Mean of Liverpool\",lp_PM25.mean())"
   ]
  },
  {
   "cell_type": "code",
   "execution_count": 12,
   "id": "8b8b7db9",
   "metadata": {},
   "outputs": [
    {
     "name": "stdout",
     "output_type": "stream",
     "text": [
      "F-statistic: 13.026948951880355\n",
      "p-value: 1.704346284465871e-05\n",
      "The means are significantly different among the cities.\n",
      "    Multiple Comparison of Means - Tukey HSD, FWER=0.05    \n",
      "===========================================================\n",
      "  group1     group2  meandiff p-adj   lower   upper  reject\n",
      "-----------------------------------------------------------\n",
      "Birmingham Liverpool  -2.4348 0.0077 -4.3115 -0.5581   True\n",
      "Birmingham    London   1.5258 0.1331 -0.3509  3.4026  False\n",
      " Liverpool    London   3.9606    0.0  2.0839  5.8374   True\n",
      "-----------------------------------------------------------\n"
     ]
    }
   ],
   "source": [
    "import pandas as pd\n",
    "import scipy.stats as stats\n",
    "import statsmodels.stats.multicomp as mc\n",
    "\n",
    "# Assuming B_PM252, l_PM252, and lp_PM252 are pandas Series containing the data for Birmingham, London, and Liverpool respectively.\n",
    "\n",
    "# Combine the data into a single DataFrame\n",
    "data = pd.DataFrame({\n",
    "    'Birmingham': B_PM25,\n",
    "    'London': l_PM25,\n",
    "    'Liverpool': lp_PM25\n",
    "})\n",
    "\n",
    "# Perform one-way APM25VA\n",
    "f_statistic, p_value = stats.f_oneway(data['Birmingham'], data['London'], data['Liverpool'])\n",
    "\n",
    "# Print the results\n",
    "print(\"F-statistic:\", f_statistic)\n",
    "print(\"p-value:\", p_value)\n",
    "\n",
    "# Check for statistical significance (alpha = 0.05)\n",
    "if p_value < 0.05:\n",
    "    print(\"The means are significantly different among the cities.\")\n",
    "    # Perform Tukey's HSD test for post hoc analysis\n",
    "    mc_result = mc.MultiComparison(data.melt(var_name='City', value_name='PM25 Concentration')['PM25 Concentration'],\n",
    "                                   data.melt(var_name='City', value_name='PM25 Concentration')['City'])\n",
    "    tukey_result = mc_result.tukeyhsd()\n",
    "    print(tukey_result)\n",
    "else:\n",
    "    print(\"There is PM25 significant difference among the cities.\")\n"
   ]
  },
  {
   "cell_type": "code",
   "execution_count": 15,
   "id": "e1a0d53b",
   "metadata": {},
   "outputs": [
    {
     "data": {
      "image/png": "[encoded data removed]",
      "text/plain": [
       "<Figure size 720x432 with 1 Axes>"
      ]
     },
     "metadata": {
      "needs_background": "light"
     },
     "output_type": "display_data"
    }
   ],
   "source": [
    "# Combine the data frames\n",
    "merged_df = df_b_PM25.merge(df_l_PM25, on='Year').merge(df_lp_PM25, on='Year')\n",
    "\n",
    "# Create a new data frame for Seaborn (melt the data to make it long-form)\n",
    "melted_df = pd.melt(merged_df, id_vars='Year', var_name='City', value_name='PM2.5_Concentration')\n",
    "\n",
    "# Plot box plots using Seaborn\n",
    "plt.figure(figsize=(10, 6))\n",
    "sns.boxplot(x='City', y='PM2.5_Concentration', data=melted_df)\n",
    "plt.title('Annual Mean PM2.5 pollutant of London, Birmingham and Liverpool')\n",
    "plt.ylabel('Annual Mean of PM2.5')\n",
    "plt.xlabel('City')\n",
    "plt.grid(True)\n",
    "plt.show()\n"
   ]
  },
  {
   "cell_type": "code",
   "execution_count": 19,
   "id": "e548c77a",
   "metadata": {},
   "outputs": [
    {
     "name": "stdout",
     "output_type": "stream",
     "text": [
      "F-statistic: 13.026948951880355\n",
      "p-value: 1.704346284465871e-05\n",
      "The means are significantly different among the cities.\n",
      "    Multiple Comparison of Means - Tukey HSD, FWER=0.05    \n",
      "===========================================================\n",
      "  group1     group2  meandiff p-adj   lower   upper  reject\n",
      "-----------------------------------------------------------\n",
      "Birmingham Liverpool  -2.4348 0.0077 -4.3115 -0.5581   True\n",
      "Birmingham    London   1.5258 0.1331 -0.3509  3.4026  False\n",
      " Liverpool    London   3.9606    0.0  2.0839  5.8374   True\n",
      "-----------------------------------------------------------\n",
      "Increasing order of cities based on PM 2.5 concentrations:\n",
      "['London', 'Birmingham', 'Liverpool']\n"
     ]
    }
   ],
   "source": [
    "import pandas as pd\n",
    "import scipy.stats as stats\n",
    "import statsmodels.stats.multicomp as mc\n",
    "\n",
    "# Assuming B_NO2, l_NO2, and lp_NO2 are pandas Series containing the data for Birmingham, London, and Liverpool respectively.\n",
    "\n",
    "# Combine the data into a single DataFrame\n",
    "data = pd.DataFrame({\n",
    "    'Birmingham': B_PM25,\n",
    "    'London': l_PM25,\n",
    "    'Liverpool': lp_PM25\n",
    "})\n",
    "\n",
    "# Perform one-way ANOVA\n",
    "f_statistic, p_value = stats.f_oneway(data['Birmingham'], data['London'], data['Liverpool'])\n",
    "\n",
    "# Print the results\n",
    "print(\"F-statistic:\", f_statistic)\n",
    "print(\"p-value:\", p_value)\n",
    "\n",
    "# Check for statistical significance (alpha = 0.05)\n",
    "if p_value < 0.05:\n",
    "    print(\"The means are significantly different among the cities.\")\n",
    "    # Perform Tukey's HSD test for post hoc analysis\n",
    "    mc_result = mc.MultiComparison(data.melt(var_name='City', value_name='NO Concentration')['NO Concentration'],\n",
    "                                   data.melt(var_name='City', value_name='NO Concentration')['City'])\n",
    "    tukey_result = mc_result.tukeyhsd()\n",
    "    print(tukey_result)\n",
    "\n",
    "    # Get the increasing order of cities based on their NO2 concentrations\n",
    "    mean_values = data.mean().sort_values(ascending=False)  # Sort in ascending order\n",
    "    increasing_order = mean_values.index.tolist()\n",
    "    print(\"Increasing order of cities based on PM 2.5 concentrations:\")\n",
    "    print(increasing_order)\n",
    "\n",
    "else:\n",
    "    print(\"There is no significant difference among the cities.\")\n"
   ]
  },
  {
   "cell_type": "code",
   "execution_count": null,
   "id": "0714e46c",
   "metadata": {},
   "outputs": [],
   "source": []
  }
 ],
 "metadata": {
  "kernelspec": {
   "display_name": "Python 3 (ipykernel)",
   "language": "python",
   "name": "python3"
  },
  "language_info": {
   "codemirror_mode": {
    "name": "ipython",
    "version": 3
   },
   "file_extension": ".py",
   "mimetype": "text/x-python",
   "name": "python",
   "nbconvert_exporter": "python",
   "pygments_lexer": "ipython3",
   "version": "3.9.12"
  }
 },
 "nbformat": 4,
 "nbformat_minor": 5
}
