{
 "cells": [
  {
   "cell_type": "code",
   "execution_count": 7,
   "id": "1b118749",
   "metadata": {},
   "outputs": [],
   "source": [
    "import pandas as pd\n",
    "import numpy as np\n",
    "from matplotlib import pyplot as plt\n",
    "import seaborn as sns\n",
    "import math"
   ]
  },
  {
   "cell_type": "code",
   "execution_count": 8,
   "id": "2e0cb55b",
   "metadata": {},
   "outputs": [],
   "source": [
    "data_b_O3=pd.read_excel(\"/Users/roshanchandraayyadevara/Documents/Dataset_Dessertation/year/O3_Data.xlsx\",sheet_name='Birmingham')\n",
    "data_l_O3=pd.read_excel(\"/Users/roshanchandraayyadevara/Documents/Dataset_Dessertation/year/O3_Data.xlsx\",sheet_name='London')\n",
    "data_lp_O3=pd.read_excel(\"/Users/roshanchandraayyadevara/Documents/Dataset_Dessertation/year/O3_Data.xlsx\",sheet_name='Liverpool')"
   ]
  },
  {
   "cell_type": "code",
   "execution_count": 9,
   "id": "d30d1358",
   "metadata": {},
   "outputs": [],
   "source": [
    "df_b_O3=data_b_O3[[\"Year\",\"Site_Name\",\"City\",\"Annual_Mean\"]]\n",
    "df_l_O3=data_l_O3[[\"Year\",\"Site_Name\",\"City\",\"Annual_Mean\"]]\n",
    "df_lp_O3=data_lp_O3[[\"Year\",\"Site_Name\",\"City\",\"Annual_Mean\"]]"
   ]
  },
  {
   "cell_type": "code",
   "execution_count": 10,
   "id": "a9ec886f",
   "metadata": {},
   "outputs": [],
   "source": [
    "df_b_O3=data_b_O3.groupby('Year').agg(O3_Birmingham=('Annual_Mean', 'mean')).reset_index()\n",
    "df_l_O3=data_l_O3.groupby('Year').agg(O3_London=('Annual_Mean', 'mean')).reset_index()\n",
    "df_lp_O3=data_lp_O3.groupby('Year').agg(O3_Liverpool=('Annual_Mean', 'mean')).reset_index()"
   ]
  },
  {
   "cell_type": "code",
   "execution_count": 11,
   "id": "3f9f1727",
   "metadata": {},
   "outputs": [],
   "source": [
    "B_O3=df_b_O3['O3_Birmingham']\n",
    "l_O3=df_l_O3['O3_London']\n",
    "lp_O3=df_lp_O3['O3_Liverpool']"
   ]
  },
  {
   "cell_type": "code",
   "execution_count": 26,
   "id": "67abf6d1",
   "metadata": {},
   "outputs": [
    {
     "data": {
      "text/html": [
       "<div>\n",
       "<style scoped>\n",
       "    .dataframe tbody tr th:only-of-type {\n",
       "        vertical-align: middle;\n",
       "    }\n",
       "\n",
       "    .dataframe tbody tr th {\n",
       "        vertical-align: top;\n",
       "    }\n",
       "\n",
       "    .dataframe thead th {\n",
       "        text-align: right;\n",
       "    }\n",
       "</style>\n",
       "<table border=\"1\" class=\"dataframe\">\n",
       "  <thead>\n",
       "    <tr style=\"text-align: right;\">\n",
       "      <th></th>\n",
       "      <th>Year</th>\n",
       "      <th>O3_Liverpool</th>\n",
       "    </tr>\n",
       "  </thead>\n",
       "  <tbody>\n",
       "    <tr>\n",
       "      <th>0</th>\n",
       "      <td>2000</td>\n",
       "      <td>38.0</td>\n",
       "    </tr>\n",
       "    <tr>\n",
       "      <th>1</th>\n",
       "      <td>2001</td>\n",
       "      <td>36.0</td>\n",
       "    </tr>\n",
       "    <tr>\n",
       "      <th>2</th>\n",
       "      <td>2002</td>\n",
       "      <td>43.0</td>\n",
       "    </tr>\n",
       "    <tr>\n",
       "      <th>3</th>\n",
       "      <td>2003</td>\n",
       "      <td>39.0</td>\n",
       "    </tr>\n",
       "    <tr>\n",
       "      <th>4</th>\n",
       "      <td>2004</td>\n",
       "      <td>48.0</td>\n",
       "    </tr>\n",
       "    <tr>\n",
       "      <th>5</th>\n",
       "      <td>2005</td>\n",
       "      <td>47.0</td>\n",
       "    </tr>\n",
       "    <tr>\n",
       "      <th>6</th>\n",
       "      <td>2006</td>\n",
       "      <td>48.0</td>\n",
       "    </tr>\n",
       "    <tr>\n",
       "      <th>7</th>\n",
       "      <td>2007</td>\n",
       "      <td>44.0</td>\n",
       "    </tr>\n",
       "    <tr>\n",
       "      <th>8</th>\n",
       "      <td>2008</td>\n",
       "      <td>47.0</td>\n",
       "    </tr>\n",
       "    <tr>\n",
       "      <th>9</th>\n",
       "      <td>2009</td>\n",
       "      <td>41.0</td>\n",
       "    </tr>\n",
       "    <tr>\n",
       "      <th>10</th>\n",
       "      <td>2010</td>\n",
       "      <td>43.0</td>\n",
       "    </tr>\n",
       "    <tr>\n",
       "      <th>11</th>\n",
       "      <td>2011</td>\n",
       "      <td>51.0</td>\n",
       "    </tr>\n",
       "    <tr>\n",
       "      <th>12</th>\n",
       "      <td>2012</td>\n",
       "      <td>47.0</td>\n",
       "    </tr>\n",
       "    <tr>\n",
       "      <th>13</th>\n",
       "      <td>2013</td>\n",
       "      <td>48.0</td>\n",
       "    </tr>\n",
       "    <tr>\n",
       "      <th>14</th>\n",
       "      <td>2014</td>\n",
       "      <td>46.0</td>\n",
       "    </tr>\n",
       "    <tr>\n",
       "      <th>15</th>\n",
       "      <td>2015</td>\n",
       "      <td>49.0</td>\n",
       "    </tr>\n",
       "    <tr>\n",
       "      <th>16</th>\n",
       "      <td>2016</td>\n",
       "      <td>43.0</td>\n",
       "    </tr>\n",
       "    <tr>\n",
       "      <th>17</th>\n",
       "      <td>2017</td>\n",
       "      <td>49.0</td>\n",
       "    </tr>\n",
       "    <tr>\n",
       "      <th>18</th>\n",
       "      <td>2018</td>\n",
       "      <td>48.0</td>\n",
       "    </tr>\n",
       "    <tr>\n",
       "      <th>19</th>\n",
       "      <td>2019</td>\n",
       "      <td>49.0</td>\n",
       "    </tr>\n",
       "    <tr>\n",
       "      <th>20</th>\n",
       "      <td>2020</td>\n",
       "      <td>59.0</td>\n",
       "    </tr>\n",
       "    <tr>\n",
       "      <th>21</th>\n",
       "      <td>2021</td>\n",
       "      <td>46.0</td>\n",
       "    </tr>\n",
       "    <tr>\n",
       "      <th>22</th>\n",
       "      <td>2022</td>\n",
       "      <td>53.0</td>\n",
       "    </tr>\n",
       "  </tbody>\n",
       "</table>\n",
       "</div>"
      ],
      "text/plain": [
       "    Year  O3_Liverpool\n",
       "0   2000          38.0\n",
       "1   2001          36.0\n",
       "2   2002          43.0\n",
       "3   2003          39.0\n",
       "4   2004          48.0\n",
       "5   2005          47.0\n",
       "6   2006          48.0\n",
       "7   2007          44.0\n",
       "8   2008          47.0\n",
       "9   2009          41.0\n",
       "10  2010          43.0\n",
       "11  2011          51.0\n",
       "12  2012          47.0\n",
       "13  2013          48.0\n",
       "14  2014          46.0\n",
       "15  2015          49.0\n",
       "16  2016          43.0\n",
       "17  2017          49.0\n",
       "18  2018          48.0\n",
       "19  2019          49.0\n",
       "20  2020          59.0\n",
       "21  2021          46.0\n",
       "22  2022          53.0"
      ]
     },
     "execution_count": 26,
     "metadata": {},
     "output_type": "execute_result"
    }
   ],
   "source": [
    "df_lp_O3"
   ]
  },
  {
   "cell_type": "code",
   "execution_count": 13,
   "id": "465003ea",
   "metadata": {},
   "outputs": [
    {
     "name": "stdout",
     "output_type": "stream",
     "text": [
      "Maximum of Birmingham 47.0\n",
      "Maximum of London 45.0\n",
      "Maximum of Liverpool 59.0\n"
     ]
    }
   ],
   "source": [
    "print(\"Maximum of Birmingham\",max(B_O3))\n",
    "print(\"Maximum of London\",max(l_O3))\n",
    "print(\"Maximum of Liverpool\",max(lp_O3))"
   ]
  },
  {
   "cell_type": "code",
   "execution_count": 14,
   "id": "44d35a17",
   "metadata": {},
   "outputs": [
    {
     "name": "stdout",
     "output_type": "stream",
     "text": [
      "Minimum of Birmingham 32.5\n",
      "Minimum of London 30.428571428571427\n",
      "Minimum of Liverpool 36.0\n"
     ]
    }
   ],
   "source": [
    "print(\"Minimum of Birmingham\",min(B_O3))\n",
    "print(\"Minimum of London\",min(l_O3))\n",
    "print(\"Minimum of Liverpool\",min(lp_O3))"
   ]
  },
  {
   "cell_type": "code",
   "execution_count": 15,
   "id": "ad896b6a",
   "metadata": {},
   "outputs": [
    {
     "name": "stdout",
     "output_type": "stream",
     "text": [
      "SD of Birmingham 3.8585696194476946\n",
      "SD of London 3.780071322785903\n",
      "SD of Liverpool 5.033092072501423\n"
     ]
    }
   ],
   "source": [
    "print(\"SD of Birmingham\",B_O3.std())\n",
    "print(\"SD of London\",l_O3.std())\n",
    "print(\"SD of Liverpool\",lp_O3.std())"
   ]
  },
  {
   "cell_type": "code",
   "execution_count": 16,
   "id": "840889e4",
   "metadata": {},
   "outputs": [
    {
     "name": "stdout",
     "output_type": "stream",
     "text": [
      "Variance of Birmingham 14.888559508124727\n",
      "Variance of London 14.288939205348367\n",
      "Variance of Liverpool 25.332015810276676\n"
     ]
    }
   ],
   "source": [
    "print(\"Variance of Birmingham\",B_O3.var())\n",
    "print(\"Variance of London\",l_O3.var())\n",
    "print(\"Variance of Liverpool\",lp_O3.var())"
   ]
  },
  {
   "cell_type": "code",
   "execution_count": 17,
   "id": "5dbd9529",
   "metadata": {},
   "outputs": [
    {
     "name": "stdout",
     "output_type": "stream",
     "text": [
      "Mean of Birmingham 39.913043478260875\n",
      "Mean of London 34.947446514837814\n",
      "Mean of Liverpool 46.17391304347826\n"
     ]
    }
   ],
   "source": [
    "print(\"Mean of Birmingham\",B_O3.mean())\n",
    "print(\"Mean of London\",l_O3.mean())\n",
    "print(\"Mean of Liverpool\",lp_O3.mean())"
   ]
  },
  {
   "cell_type": "code",
   "execution_count": 18,
   "id": "8b8b7db9",
   "metadata": {},
   "outputs": [
    {
     "name": "stdout",
     "output_type": "stream",
     "text": [
      "F-statistic: 40.06136768738542\n",
      "p-value: 4.066892454379641e-12\n",
      "The means are significantly different among the cities.\n",
      "    Multiple Comparison of Means - Tukey HSD, FWER=0.05     \n",
      "============================================================\n",
      "  group1     group2  meandiff p-adj   lower    upper  reject\n",
      "------------------------------------------------------------\n",
      "Birmingham Liverpool   6.2609    0.0    3.247  9.2747   True\n",
      "Birmingham    London  -4.9656 0.0006  -7.9794 -1.9517   True\n",
      " Liverpool    London -11.2265    0.0 -14.2403 -8.2126   True\n",
      "------------------------------------------------------------\n"
     ]
    }
   ],
   "source": [
    "import pandas as pd\n",
    "import scipy.stats as stats\n",
    "import statsmodels.stats.multicomp as mc\n",
    "\n",
    "# Assuming B_O32, l_O32, and lp_O32 are pandas Series containing the data for Birmingham, London, and Liverpool respectively.\n",
    "\n",
    "# Combine the data into a single DataFrame\n",
    "data = pd.DataFrame({\n",
    "    'Birmingham': B_O3,\n",
    "    'London': l_O3,\n",
    "    'Liverpool': lp_O3\n",
    "})\n",
    "\n",
    "# Perform one-way AO3VA\n",
    "f_statistic, p_value = stats.f_oneway(data['Birmingham'], data['London'], data['Liverpool'])\n",
    "\n",
    "# Print the results\n",
    "print(\"F-statistic:\", f_statistic)\n",
    "print(\"p-value:\", p_value)\n",
    "\n",
    "# Check for statistical significance (alpha = 0.05)\n",
    "if p_value < 0.05:\n",
    "    print(\"The means are significantly different among the cities.\")\n",
    "    # Perform Tukey's HSD test for post hoc analysis\n",
    "    mc_result = mc.MultiComparison(data.melt(var_name='City', value_name='O3 Concentration')['O3 Concentration'],\n",
    "                                   data.melt(var_name='City', value_name='O3 Concentration')['City'])\n",
    "    tukey_result = mc_result.tukeyhsd()\n",
    "    print(tukey_result)\n",
    "else:\n",
    "    print(\"There is O3 significant difference among the cities.\")\n"
   ]
  },
  {
   "cell_type": "code",
   "execution_count": 19,
   "id": "e1a0d53b",
   "metadata": {},
   "outputs": [
    {
     "data": {
      "image/png": "[encoded data removed]",
      "text/plain": [
       "<Figure size 720x432 with 1 Axes>"
      ]
     },
     "metadata": {
      "needs_background": "light"
     },
     "output_type": "display_data"
    }
   ],
   "source": [
    "# Combine the data frames\n",
    "merged_df = df_b_O3.merge(df_l_O3, on='Year').merge(df_lp_O3, on='Year')\n",
    "\n",
    "# Create a new data frame for Seaborn (melt the data to make it long-form)\n",
    "melted_df = pd.melt(merged_df, id_vars='Year', var_name='City', value_name='O3_Concentration')\n",
    "\n",
    "# Plot box plots using Seaborn\n",
    "plt.figure(figsize=(10, 6))\n",
    "sns.boxplot(x='City', y='O3_Concentration', data=melted_df)\n",
    "plt.title('Annual Mean O3 pollutant of London, Birmingham and Liverpool')\n",
    "plt.ylabel('Annual Mean of O3')\n",
    "plt.xlabel('City')\n",
    "plt.grid(True)\n",
    "plt.show()\n"
   ]
  },
  {
   "cell_type": "code",
   "execution_count": 28,
   "id": "e548c77a",
   "metadata": {},
   "outputs": [
    {
     "name": "stdout",
     "output_type": "stream",
     "text": [
      "F-statistic: 40.06136768738542\n",
      "p-value: 4.066892454379641e-12\n",
      "The means are significantly different among the cities.\n",
      "    Multiple Comparison of Means - Tukey HSD, FWER=0.05     \n",
      "============================================================\n",
      "  group1     group2  meandiff p-adj   lower    upper  reject\n",
      "------------------------------------------------------------\n",
      "Birmingham Liverpool   6.2609    0.0    3.247  9.2747   True\n",
      "Birmingham    London  -4.9656 0.0006  -7.9794 -1.9517   True\n",
      " Liverpool    London -11.2265    0.0 -14.2403 -8.2126   True\n",
      "------------------------------------------------------------\n",
      "Increasing order of cities based on O3 concentrations:\n",
      "['Liverpool', 'Birmingham', 'London']\n"
     ]
    }
   ],
   "source": [
    "import pandas as pd\n",
    "import scipy.stats as stats\n",
    "import statsmodels.stats.multicomp as mc\n",
    "\n",
    "# Assuming B_NO2, l_NO2, and lp_NO2 are pandas Series containing the data for Birmingham, London, and Liverpool respectively.\n",
    "\n",
    "# Combine the data into a single DataFrame\n",
    "data = pd.DataFrame({\n",
    "    'Birmingham': B_O3,\n",
    "    'London': l_O3,\n",
    "    'Liverpool': lp_O3\n",
    "})\n",
    "\n",
    "# Perform one-way ANOVA\n",
    "f_statistic, p_value = stats.f_oneway(data['Birmingham'], data['London'], data['Liverpool'])\n",
    "\n",
    "# Print the results\n",
    "print(\"F-statistic:\", f_statistic)\n",
    "print(\"p-value:\", p_value)\n",
    "\n",
    "# Check for statistical significance (alpha = 0.05)\n",
    "if p_value < 0.05:\n",
    "    print(\"The means are significantly different among the cities.\")\n",
    "    # Perform Tukey's HSD test for post hoc analysis\n",
    "    mc_result = mc.MultiComparison(data.melt(var_name='City', value_name='NO Concentration')['NO Concentration'],\n",
    "                                   data.melt(var_name='City', value_name='NO Concentration')['City'])\n",
    "    tukey_result = mc_result.tukeyhsd()\n",
    "    print(tukey_result)\n",
    "\n",
    "    # Get the increasing order of cities based on their NO2 concentrations\n",
    "    mean_values = data.mean().sort_values(ascending=False)  # Sort in ascending order\n",
    "    increasing_order = mean_values.index.tolist()\n",
    "    print(\"Increasing order of cities based on O3 concentrations:\")\n",
    "    print(increasing_order)\n",
    "\n",
    "else:\n",
    "    print(\"There is no significant difference among the cities.\")\n"
   ]
  },
  {
   "cell_type": "code",
   "execution_count": null,
   "id": "a42100d9",
   "metadata": {},
   "outputs": [],
   "source": []
  }
 ],
 "metadata": {
  "kernelspec": {
   "display_name": "Python 3 (ipykernel)",
   "language": "python",
   "name": "python3"
  },
  "language_info": {
   "codemirror_mode": {
    "name": "ipython",
    "version": 3
   },
   "file_extension": ".py",
   "mimetype": "text/x-python",
   "name": "python",
   "nbconvert_exporter": "python",
   "pygments_lexer": "ipython3",
   "version": "3.9.12"
  }
 },
 "nbformat": 4,
 "nbformat_minor": 5
}
