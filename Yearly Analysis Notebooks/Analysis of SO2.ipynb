{
 "cells": [
  {
   "cell_type": "code",
   "execution_count": 27,
   "id": "1b118749",
   "metadata": {},
   "outputs": [],
   "source": [
    "import pandas as pd\n",
    "import numpy as np\n",
    "from matplotlib import pyplot as plt\n",
    "import seaborn as sns\n",
    "import math"
   ]
  },
  {
   "cell_type": "code",
   "execution_count": 28,
   "id": "2e0cb55b",
   "metadata": {},
   "outputs": [],
   "source": [
    "data_b_SO2=pd.read_excel(\"/Users/roshanchandraayyadevara/Documents/Dataset_Dessertation/year/SO2_Data.xlsx\",sheet_name='Birmingham')\n",
    "data_l_SO2=pd.read_excel(\"/Users/roshanchandraayyadevara/Documents/Dataset_Dessertation/year/SO2_Data.xlsx\",sheet_name='London')\n",
    "data_lp_SO2=pd.read_excel(\"/Users/roshanchandraayyadevara/Documents/Dataset_Dessertation/year/SO2_Data.xlsx\",sheet_name='Liverpool')"
   ]
  },
  {
   "cell_type": "code",
   "execution_count": 29,
   "id": "d30d1358",
   "metadata": {},
   "outputs": [],
   "source": [
    "df_b_SO2=data_b_SO2[[\"Year\",\"Site_Name\",\"City\",\"Annual_Mean\"]]\n",
    "df_l_SO2=data_l_SO2[[\"Year\",\"Site_Name\",\"City\",\"Annual_Mean\"]]\n",
    "df_lp_SO2=data_lp_SO2[[\"Year\",\"Site_Name\",\"City\",\"Annual_Mean\"]]"
   ]
  },
  {
   "cell_type": "code",
   "execution_count": 30,
   "id": "a9ec886f",
   "metadata": {},
   "outputs": [],
   "source": [
    "df_b_SO2=data_b_SO2.groupby('Year').agg(SO2_Birmingham=('Annual_Mean', 'mean')).reset_index()\n",
    "df_l_SO2=data_l_SO2.groupby('Year').agg(SO2_London=('Annual_Mean', 'mean')).reset_index()\n",
    "df_lp_SO2=data_lp_SO2.groupby('Year').agg(SO2_Liverpool=('Annual_Mean', 'mean')).reset_index()"
   ]
  },
  {
   "cell_type": "code",
   "execution_count": 31,
   "id": "3f9f1727",
   "metadata": {},
   "outputs": [],
   "source": [
    "B_SO2=df_b_SO2['SO2_Birmingham']\n",
    "l_SO2=df_l_SO2['SO2_London']\n",
    "lp_SO2=df_lp_SO2['SO2_Liverpool']"
   ]
  },
  {
   "cell_type": "code",
   "execution_count": 45,
   "id": "67abf6d1",
   "metadata": {},
   "outputs": [
    {
     "data": {
      "text/html": [
       "<div>\n",
       "<style scoped>\n",
       "    .dataframe tbody tr th:only-of-type {\n",
       "        vertical-align: middle;\n",
       "    }\n",
       "\n",
       "    .dataframe tbody tr th {\n",
       "        vertical-align: top;\n",
       "    }\n",
       "\n",
       "    .dataframe thead th {\n",
       "        text-align: right;\n",
       "    }\n",
       "</style>\n",
       "<table border=\"1\" class=\"dataframe\">\n",
       "  <thead>\n",
       "    <tr style=\"text-align: right;\">\n",
       "      <th></th>\n",
       "      <th>Year</th>\n",
       "      <th>SO2_Liverpool</th>\n",
       "    </tr>\n",
       "  </thead>\n",
       "  <tbody>\n",
       "    <tr>\n",
       "      <th>0</th>\n",
       "      <td>2000</td>\n",
       "      <td>7.0</td>\n",
       "    </tr>\n",
       "    <tr>\n",
       "      <th>1</th>\n",
       "      <td>2001</td>\n",
       "      <td>7.0</td>\n",
       "    </tr>\n",
       "    <tr>\n",
       "      <th>2</th>\n",
       "      <td>2002</td>\n",
       "      <td>5.0</td>\n",
       "    </tr>\n",
       "    <tr>\n",
       "      <th>3</th>\n",
       "      <td>2003</td>\n",
       "      <td>6.0</td>\n",
       "    </tr>\n",
       "    <tr>\n",
       "      <th>4</th>\n",
       "      <td>2004</td>\n",
       "      <td>5.0</td>\n",
       "    </tr>\n",
       "    <tr>\n",
       "      <th>5</th>\n",
       "      <td>2005</td>\n",
       "      <td>7.0</td>\n",
       "    </tr>\n",
       "    <tr>\n",
       "      <th>6</th>\n",
       "      <td>2006</td>\n",
       "      <td>6.0</td>\n",
       "    </tr>\n",
       "    <tr>\n",
       "      <th>7</th>\n",
       "      <td>2007</td>\n",
       "      <td>6.0</td>\n",
       "    </tr>\n",
       "    <tr>\n",
       "      <th>8</th>\n",
       "      <td>2008</td>\n",
       "      <td>6.0</td>\n",
       "    </tr>\n",
       "    <tr>\n",
       "      <th>9</th>\n",
       "      <td>2009</td>\n",
       "      <td>5.0</td>\n",
       "    </tr>\n",
       "    <tr>\n",
       "      <th>10</th>\n",
       "      <td>2010</td>\n",
       "      <td>4.0</td>\n",
       "    </tr>\n",
       "    <tr>\n",
       "      <th>11</th>\n",
       "      <td>2011</td>\n",
       "      <td>3.0</td>\n",
       "    </tr>\n",
       "    <tr>\n",
       "      <th>12</th>\n",
       "      <td>2012</td>\n",
       "      <td>3.0</td>\n",
       "    </tr>\n",
       "    <tr>\n",
       "      <th>13</th>\n",
       "      <td>2013</td>\n",
       "      <td>3.0</td>\n",
       "    </tr>\n",
       "    <tr>\n",
       "      <th>14</th>\n",
       "      <td>2014</td>\n",
       "      <td>3.0</td>\n",
       "    </tr>\n",
       "    <tr>\n",
       "      <th>15</th>\n",
       "      <td>2015</td>\n",
       "      <td>2.0</td>\n",
       "    </tr>\n",
       "    <tr>\n",
       "      <th>16</th>\n",
       "      <td>2016</td>\n",
       "      <td>2.0</td>\n",
       "    </tr>\n",
       "    <tr>\n",
       "      <th>17</th>\n",
       "      <td>2017</td>\n",
       "      <td>2.0</td>\n",
       "    </tr>\n",
       "    <tr>\n",
       "      <th>18</th>\n",
       "      <td>2018</td>\n",
       "      <td>2.0</td>\n",
       "    </tr>\n",
       "    <tr>\n",
       "      <th>19</th>\n",
       "      <td>2019</td>\n",
       "      <td>2.0</td>\n",
       "    </tr>\n",
       "    <tr>\n",
       "      <th>20</th>\n",
       "      <td>2020</td>\n",
       "      <td>2.0</td>\n",
       "    </tr>\n",
       "    <tr>\n",
       "      <th>21</th>\n",
       "      <td>2021</td>\n",
       "      <td>3.0</td>\n",
       "    </tr>\n",
       "    <tr>\n",
       "      <th>22</th>\n",
       "      <td>2022</td>\n",
       "      <td>2.0</td>\n",
       "    </tr>\n",
       "  </tbody>\n",
       "</table>\n",
       "</div>"
      ],
      "text/plain": [
       "    Year  SO2_Liverpool\n",
       "0   2000            7.0\n",
       "1   2001            7.0\n",
       "2   2002            5.0\n",
       "3   2003            6.0\n",
       "4   2004            5.0\n",
       "5   2005            7.0\n",
       "6   2006            6.0\n",
       "7   2007            6.0\n",
       "8   2008            6.0\n",
       "9   2009            5.0\n",
       "10  2010            4.0\n",
       "11  2011            3.0\n",
       "12  2012            3.0\n",
       "13  2013            3.0\n",
       "14  2014            3.0\n",
       "15  2015            2.0\n",
       "16  2016            2.0\n",
       "17  2017            2.0\n",
       "18  2018            2.0\n",
       "19  2019            2.0\n",
       "20  2020            2.0\n",
       "21  2021            3.0\n",
       "22  2022            2.0"
      ]
     },
     "execution_count": 45,
     "metadata": {},
     "output_type": "execute_result"
    }
   ],
   "source": [
    "df_lp_SO2"
   ]
  },
  {
   "cell_type": "code",
   "execution_count": 33,
   "id": "465003ea",
   "metadata": {},
   "outputs": [
    {
     "name": "stdout",
     "output_type": "stream",
     "text": [
      "Maximum of Birmingham 7.5\n",
      "Maximum of London 7.636363636363637\n",
      "Maximum of Liverpool 7.0\n"
     ]
    }
   ],
   "source": [
    "print(\"Maximum of Birmingham\",max(B_SO2))\n",
    "print(\"Maximum of London\",max(l_SO2))\n",
    "print(\"Maximum of Liverpool\",max(lp_SO2))"
   ]
  },
  {
   "cell_type": "code",
   "execution_count": 34,
   "id": "44d35a17",
   "metadata": {},
   "outputs": [
    {
     "name": "stdout",
     "output_type": "stream",
     "text": [
      "Minimum of Birmingham 0.0\n",
      "Minimum of London 1.3333333333333333\n",
      "Minimum of Liverpool 2.0\n"
     ]
    }
   ],
   "source": [
    "print(\"Minimum of Birmingham\",min(B_SO2))\n",
    "print(\"Minimum of London\",min(l_SO2))\n",
    "print(\"Minimum of Liverpool\",min(lp_SO2))"
   ]
  },
  {
   "cell_type": "code",
   "execution_count": 35,
   "id": "ad896b6a",
   "metadata": {},
   "outputs": [
    {
     "name": "stdout",
     "output_type": "stream",
     "text": [
      "SD of Birmingham 2.1023702039146914\n",
      "SD of London 1.6448309088804964\n",
      "SD of Liverpool 1.8944478895773593\n"
     ]
    }
   ],
   "source": [
    "print(\"SD of Birmingham\",B_SO2.std())\n",
    "print(\"SD of London\",l_SO2.std())\n",
    "print(\"SD of Liverpool\",lp_SO2.std())"
   ]
  },
  {
   "cell_type": "code",
   "execution_count": 36,
   "id": "840889e4",
   "metadata": {},
   "outputs": [
    {
     "name": "stdout",
     "output_type": "stream",
     "text": [
      "Variance of Birmingham 4.419960474308302\n",
      "Variance of London 2.70546871880864\n",
      "Variance of Liverpool 3.588932806324111\n"
     ]
    }
   ],
   "source": [
    "print(\"Variance of Birmingham\",B_SO2.var())\n",
    "print(\"Variance of London\",l_SO2.var())\n",
    "print(\"Variance of Liverpool\",lp_SO2.var())"
   ]
  },
  {
   "cell_type": "code",
   "execution_count": 37,
   "id": "5dbd9529",
   "metadata": {},
   "outputs": [
    {
     "name": "stdout",
     "output_type": "stream",
     "text": [
      "Mean of Birmingham 2.5217391304347827\n",
      "Mean of London 4.100131752305664\n",
      "Mean of Liverpool 4.043478260869565\n"
     ]
    }
   ],
   "source": [
    "print(\"Mean of Birmingham\",B_SO2.mean())\n",
    "print(\"Mean of London\",l_SO2.mean())\n",
    "print(\"Mean of Liverpool\",lp_SO2.mean())"
   ]
  },
  {
   "cell_type": "code",
   "execution_count": 38,
   "id": "8b8b7db9",
   "metadata": {},
   "outputs": [
    {
     "name": "stdout",
     "output_type": "stream",
     "text": [
      "F-statistic: 5.162935785115384\n",
      "p-value: 0.008256222512649887\n",
      "The means are significantly different among the cities.\n",
      "   Multiple Comparison of Means - Tukey HSD, FWER=0.05    \n",
      "==========================================================\n",
      "  group1     group2  meandiff p-adj   lower  upper  reject\n",
      "----------------------------------------------------------\n",
      "Birmingham Liverpool   1.5217 0.0218  0.1855 2.8579   True\n",
      "Birmingham    London   1.5784 0.0166  0.2422 2.9146   True\n",
      " Liverpool    London   0.0567 0.9943 -1.2795 1.3928  False\n",
      "----------------------------------------------------------\n"
     ]
    }
   ],
   "source": [
    "import pandas as pd\n",
    "import scipy.stats as stats\n",
    "import statsmodels.stats.multicomp as mc\n",
    "\n",
    "# Assuming B_SO22, l_SO22, and lp_SO22 are pandas Series containing the data for Birmingham, London, and Liverpool respectively.\n",
    "\n",
    "# Combine the data into a single DataFrame\n",
    "data = pd.DataFrame({\n",
    "    'Birmingham': B_SO2,\n",
    "    'London': l_SO2,\n",
    "    'Liverpool': lp_SO2\n",
    "})\n",
    "\n",
    "# Perform one-way ASO2VA\n",
    "f_statistic, p_value = stats.f_oneway(data['Birmingham'], data['London'], data['Liverpool'])\n",
    "\n",
    "# Print the results\n",
    "print(\"F-statistic:\", f_statistic)\n",
    "print(\"p-value:\", p_value)\n",
    "\n",
    "# Check for statistical significance (alpha = 0.05)\n",
    "if p_value < 0.05:\n",
    "    print(\"The means are significantly different among the cities.\")\n",
    "    # Perform Tukey's HSD test for post hoc analysis\n",
    "    mc_result = mc.MultiComparison(data.melt(var_name='City', value_name='SO2 Concentration')['SO2 Concentration'],\n",
    "                                   data.melt(var_name='City', value_name='SO2 Concentration')['City'])\n",
    "    tukey_result = mc_result.tukeyhsd()\n",
    "    print(tukey_result)\n",
    "else:\n",
    "    print(\"There is SO2 significant difference among the cities.\")\n"
   ]
  },
  {
   "cell_type": "code",
   "execution_count": 39,
   "id": "e1a0d53b",
   "metadata": {},
   "outputs": [
    {
     "data": {
      "image/png": "[encoded data removed]",
      "text/plain": [
       "<Figure size 720x432 with 1 Axes>"
      ]
     },
     "metadata": {
      "needs_background": "light"
     },
     "output_type": "display_data"
    }
   ],
   "source": [
    "# Combine the data frames\n",
    "merged_df = df_b_SO2.merge(df_l_SO2, on='Year').merge(df_lp_SO2, on='Year')\n",
    "\n",
    "# Create a new data frame for Seaborn (melt the data to make it long-form)\n",
    "melted_df = pd.melt(merged_df, id_vars='Year', var_name='City', value_name='SO2_Concentration')\n",
    "\n",
    "# Plot box plots using Seaborn\n",
    "plt.figure(figsize=(10, 6))\n",
    "sns.boxplot(x='City', y='SO2_Concentration', data=melted_df)\n",
    "plt.title('Annual Mean SO2 pollutant of London, Birmingham and Liverpool')\n",
    "plt.ylabel('Annual Mean of SO2')\n",
    "plt.xlabel('City')\n",
    "plt.grid(True)\n",
    "plt.show()\n"
   ]
  },
  {
   "cell_type": "code",
   "execution_count": 43,
   "id": "e548c77a",
   "metadata": {},
   "outputs": [
    {
     "name": "stdout",
     "output_type": "stream",
     "text": [
      "F-statistic: 5.162935785115384\n",
      "p-value: 0.008256222512649887\n",
      "The means are significantly different among the cities.\n",
      "   Multiple Comparison of Means - Tukey HSD, FWER=0.05    \n",
      "==========================================================\n",
      "  group1     group2  meandiff p-adj   lower  upper  reject\n",
      "----------------------------------------------------------\n",
      "Birmingham Liverpool   1.5217 0.0218  0.1855 2.8579   True\n",
      "Birmingham    London   1.5784 0.0166  0.2422 2.9146   True\n",
      " Liverpool    London   0.0567 0.9943 -1.2795 1.3928  False\n",
      "----------------------------------------------------------\n",
      "Increasing order of cities based on SO2 concentrations:\n",
      "['London', 'Liverpool', 'Birmingham']\n"
     ]
    }
   ],
   "source": [
    "import pandas as pd\n",
    "import scipy.stats as stats\n",
    "import statsmodels.stats.multicomp as mc\n",
    "\n",
    "# Assuming B_NO2, l_NO2, and lp_NO2 are pandas Series containing the data for Birmingham, London, and Liverpool respectively.\n",
    "\n",
    "# Combine the data into a single DataFrame\n",
    "data = pd.DataFrame({\n",
    "    'Birmingham': B_SO2,\n",
    "    'London': l_SO2,\n",
    "    'Liverpool': lp_SO2\n",
    "})\n",
    "\n",
    "# Perform one-way ANOVA\n",
    "f_statistic, p_value = stats.f_oneway(data['Birmingham'], data['London'], data['Liverpool'])\n",
    "\n",
    "# Print the results\n",
    "print(\"F-statistic:\", f_statistic)\n",
    "print(\"p-value:\", p_value)\n",
    "\n",
    "# Check for statistical significance (alpha = 0.05)\n",
    "if p_value < 0.05:\n",
    "    print(\"The means are significantly different among the cities.\")\n",
    "    # Perform Tukey's HSD test for post hoc analysis\n",
    "    mc_result = mc.MultiComparison(data.melt(var_name='City', value_name='NO Concentration')['NO Concentration'],\n",
    "                                   data.melt(var_name='City', value_name='NO Concentration')['City'])\n",
    "    tukey_result = mc_result.tukeyhsd()\n",
    "    print(tukey_result)\n",
    "\n",
    "    # Get the increasing order of cities based on their NO2 concentrations\n",
    "    mean_values = data.mean().sort_values(ascending=False)  # Sort in ascending order\n",
    "    increasing_order = mean_values.index.tolist()\n",
    "    print(\"Increasing order of cities based on SO2 concentrations:\")\n",
    "    print(increasing_order)\n",
    "\n",
    "else:\n",
    "    print(\"There is no significant difference among the cities.\")\n"
   ]
  },
  {
   "cell_type": "code",
   "execution_count": null,
   "id": "8310c59a",
   "metadata": {},
   "outputs": [],
   "source": []
  }
 ],
 "metadata": {
  "kernelspec": {
   "display_name": "Python 3 (ipykernel)",
   "language": "python",
   "name": "python3"
  },
  "language_info": {
   "codemirror_mode": {
    "name": "ipython",
    "version": 3
   },
   "file_extension": ".py",
   "mimetype": "text/x-python",
   "name": "python",
   "nbconvert_exporter": "python",
   "pygments_lexer": "ipython3",
   "version": "3.9.12"
  }
 },
 "nbformat": 4,
 "nbformat_minor": 5
}
